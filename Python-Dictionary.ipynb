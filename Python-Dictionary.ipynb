{
 "cells": [
  {
   "cell_type": "code",
   "execution_count": 2,
   "id": "064eb023-2ea7-40af-a802-1cf3c8f46c9f",
   "metadata": {},
   "outputs": [],
   "source": [
    "ret_inv = {\n",
    "    \"Electronics\": {\n",
    "        \"Laptop\": [55000, 30, \"Dell\"],\n",
    "        \"Mobile\": [25000, 50, \"Samsung\"],\n",
    "        \"Tablet\": [18000, 20, \"Lenovo\"],\n",
    "        \"Smart Watch\": [7999, 40, \"Noise\"]\n",
    "    },\n",
    "    \"Apparel\": {\n",
    "        \"T-Shirt\": [499, 100, \"H&M\"],\n",
    "        \"Jeans\": [1199, 60, \"Levi's\"],\n",
    "        \"Jacket\": [2499, 25, \"Puma\"]\n",
    "    },\n",
    "    \"Home Appliances\": {\n",
    "        \"Microwave\": [8500, 15, \"LG\"],\n",
    "        \"Vacuum Cleaner\": [7000, 10, \"Philips\"],\n",
    "        \"Refrigerator\": [30000, 8, \"Samsung\"]\n",
    "    }\n",
    "}"
   ]
  },
  {
   "cell_type": "code",
   "execution_count": null,
   "id": "4e634af2-d1c5-4030-8a44-5ed9b94217b3",
   "metadata": {},
   "outputs": [],
   "source": [
    "How do you get all the keys from a dictionary? (Use .keys())"
   ]
  },
  {
   "cell_type": "code",
   "execution_count": 4,
   "id": "98a41a69-d95b-4db2-8051-20ed20b2f3e2",
   "metadata": {},
   "outputs": [
    {
     "data": {
      "text/plain": [
       "dict_keys(['Electronics', 'Apparel', 'Home Appliances'])"
      ]
     },
     "execution_count": 4,
     "metadata": {},
     "output_type": "execute_result"
    }
   ],
   "source": [
    "ret_inv.keys()"
   ]
  },
  {
   "cell_type": "code",
   "execution_count": null,
   "id": "acc681c9-4101-4d10-82eb-7ad4ef43377b",
   "metadata": {},
   "outputs": [],
   "source": []
  },
  {
   "cell_type": "code",
   "execution_count": null,
   "id": "a22989a5-8ac4-4f21-9f75-d88e72a05ec3",
   "metadata": {},
   "outputs": [],
   "source": [
    "How do you get all the values from a dictionary? (Use .values())"
   ]
  },
  {
   "cell_type": "code",
   "execution_count": 7,
   "id": "ebfc7309-da35-4108-ae84-1739d3dce135",
   "metadata": {},
   "outputs": [
    {
     "data": {
      "text/plain": [
       "dict_values([{'Laptop': [55000, 30, 'Dell'], 'Mobile': [25000, 50, 'Samsung'], 'Tablet': [18000, 20, 'Lenovo'], 'Smart Watch': [7999, 40, 'Noise']}, {'T-Shirt': [499, 100, 'H&M'], 'Jeans': [1199, 60, \"Levi's\"], 'Jacket': [2499, 25, 'Puma']}, {'Microwave': [8500, 15, 'LG'], 'Vacuum Cleaner': [7000, 10, 'Philips'], 'Refrigerator': [30000, 8, 'Samsung']}])"
      ]
     },
     "execution_count": 7,
     "metadata": {},
     "output_type": "execute_result"
    }
   ],
   "source": [
    "ret_inv.values()"
   ]
  },
  {
   "cell_type": "code",
   "execution_count": null,
   "id": "002144fd-773c-4bfc-8909-75692713e4a0",
   "metadata": {},
   "outputs": [],
   "source": []
  },
  {
   "cell_type": "code",
   "execution_count": null,
   "id": "74397f13-0440-402a-892c-470fc9218df4",
   "metadata": {},
   "outputs": [],
   "source": [
    "How do you get only one of the values from a dictionary? (Use .values())"
   ]
  },
  {
   "cell_type": "code",
   "execution_count": 9,
   "id": "bd05333b-0ef5-4ba5-96d6-5f7fce54b5bb",
   "metadata": {},
   "outputs": [
    {
     "data": {
      "text/plain": [
       "dict_values([[55000, 30, 'Dell'], [25000, 50, 'Samsung'], [18000, 20, 'Lenovo'], [7999, 40, 'Noise']])"
      ]
     },
     "execution_count": 9,
     "metadata": {},
     "output_type": "execute_result"
    }
   ],
   "source": [
    "ret_inv[\"Electronics\"].values()"
   ]
  },
  {
   "cell_type": "code",
   "execution_count": null,
   "id": "d6721123-6ea2-4690-868b-1fd66593cbcd",
   "metadata": {},
   "outputs": [],
   "source": []
  },
  {
   "cell_type": "code",
   "execution_count": null,
   "id": "e2593dca-c786-4b50-a9f2-6a96f329b2ca",
   "metadata": {},
   "outputs": [],
   "source": [
    "How do you retrieve the value for a specific key safely? (Use .get(key))"
   ]
  },
  {
   "cell_type": "code",
   "execution_count": 16,
   "id": "ae3ac11b-6fa7-4ee6-8381-7fcb4f59e36f",
   "metadata": {},
   "outputs": [
    {
     "data": {
      "text/plain": [
       "[25000, 50, 'Samsung']"
      ]
     },
     "execution_count": 16,
     "metadata": {},
     "output_type": "execute_result"
    }
   ],
   "source": [
    "ret_inv['Electronics'].get('Mobile')"
   ]
  },
  {
   "cell_type": "code",
   "execution_count": null,
   "id": "04b50110-2266-49c8-bba9-38fa9c7d9753",
   "metadata": {},
   "outputs": [],
   "source": []
  },
  {
   "cell_type": "code",
   "execution_count": null,
   "id": "ebcc627d-79f1-4b81-9772-2978f5a2c719",
   "metadata": {},
   "outputs": [],
   "source": [
    "How do you check if a key exists in a dictionary? (Use in)"
   ]
  },
  {
   "cell_type": "code",
   "execution_count": 30,
   "id": "bbfccb26-c061-483e-aede-6ae23b912b32",
   "metadata": {},
   "outputs": [
    {
     "name": "stdout",
     "output_type": "stream",
     "text": [
      "no\n"
     ]
    }
   ],
   "source": [
    "if \"Electronics\" in ret_inv:\n",
    "    print (\"yes\")\n",
    "else: \n",
    "    print(\"no\")\n"
   ]
  },
  {
   "cell_type": "code",
   "execution_count": null,
   "id": "786ae034-c1cf-4586-a72a-f3546c205f6b",
   "metadata": {},
   "outputs": [],
   "source": []
  },
  {
   "cell_type": "code",
   "execution_count": null,
   "id": "5471246e-6da9-44c0-90a6-8998f4933e56",
   "metadata": {},
   "outputs": [],
   "source": [
    "How do you remove a key and return its value? (Use .pop(key))"
   ]
  },
  {
   "cell_type": "code",
   "execution_count": 34,
   "id": "6ae024f7-dd11-4525-95f8-07f2e09f7409",
   "metadata": {},
   "outputs": [
    {
     "data": {
      "text/plain": [
       "{'Laptop': [55000, 30, 'Dell'],\n",
       " 'Mobile': [25000, 50, 'Samsung'],\n",
       " 'Tablet': [18000, 20, 'Lenovo'],\n",
       " 'Smart Watch': [7999, 40, 'Noise']}"
      ]
     },
     "execution_count": 34,
     "metadata": {},
     "output_type": "execute_result"
    }
   ],
   "source": [
    "ret_inv.pop(\"Electronics\")"
   ]
  },
  {
   "cell_type": "code",
   "execution_count": null,
   "id": "bb75d4c1-00d8-4840-892c-c308b0740e0d",
   "metadata": {},
   "outputs": [],
   "source": []
  },
  {
   "cell_type": "code",
   "execution_count": null,
   "id": "dec49e76-76f1-4784-8d78-ac7047205e11",
   "metadata": {},
   "outputs": [],
   "source": [
    "How do you remove a particular value? (Use .pop(key))"
   ]
  },
  {
   "cell_type": "code",
   "execution_count": 37,
   "id": "4ed184f9-4579-4e50-9675-8d1a7ea26008",
   "metadata": {},
   "outputs": [
    {
     "data": {
      "text/plain": [
       "[499, 100, 'H&M']"
      ]
     },
     "execution_count": 37,
     "metadata": {},
     "output_type": "execute_result"
    }
   ],
   "source": [
    "ret_inv[\"Apparel\"].pop('T-Shirt')"
   ]
  },
  {
   "cell_type": "code",
   "execution_count": 38,
   "id": "126fb686-e1a3-4049-9161-224ca35ad350",
   "metadata": {},
   "outputs": [
    {
     "data": {
      "text/plain": [
       "{'Apparel': {'Jeans': [1199, 60, \"Levi's\"], 'Jacket': [2499, 25, 'Puma']},\n",
       " 'Home Appliances': {'Microwave': [8500, 15, 'LG'],\n",
       "  'Vacuum Cleaner': [7000, 10, 'Philips'],\n",
       "  'Refrigerator': [30000, 8, 'Samsung']}}"
      ]
     },
     "execution_count": 38,
     "metadata": {},
     "output_type": "execute_result"
    }
   ],
   "source": [
    "ret_inv"
   ]
  },
  {
   "cell_type": "code",
   "execution_count": null,
   "id": "e2abc902-dd98-46c9-b989-f893ad022e29",
   "metadata": {},
   "outputs": [],
   "source": []
  },
  {
   "cell_type": "code",
   "execution_count": null,
   "id": "c8c97f04-bb46-43cb-944f-3f94bcbf8105",
   "metadata": {},
   "outputs": [],
   "source": [
    "How do you copy a dictionary? (Use .copy())"
   ]
  },
  {
   "cell_type": "code",
   "execution_count": 39,
   "id": "6b27dec6-ff43-495a-8954-1173fca8ca54",
   "metadata": {},
   "outputs": [],
   "source": [
    "retail_inventory = {\n",
    "    \"Electronics\": {\n",
    "        \"Laptop\": [55000, 30, \"Dell\"],\n",
    "        \"Mobile\": [25000, 50, \"Samsung\"],\n",
    "        \"Tablet\": [18000, 20, \"Lenovo\"],\n",
    "        \"Smart Watch\": [7999, 40, \"Noise\"]\n",
    "    },\n",
    "    \"Apparel\": {\n",
    "        \"T-Shirt\": [499, 100, \"H&M\"],\n",
    "        \"Jeans\": [1199, 60, \"Levi's\"],\n",
    "        \"Jacket\": [2499, 25, \"Puma\"]\n",
    "    },\n",
    "    \"Home Appliances\": {\n",
    "        \"Microwave\": [8500, 15, \"LG\"],\n",
    "        \"Vacuum Cleaner\": [7000, 10, \"Philips\"],\n",
    "        \"Refrigerator\": [30000, 8, \"Samsung\"]\n",
    "    }\n",
    "}"
   ]
  },
  {
   "cell_type": "code",
   "execution_count": 51,
   "id": "125b16c4-765b-4789-823f-6eba8d774bd3",
   "metadata": {},
   "outputs": [],
   "source": [
    "ret_inv = retail_inventory.copy()"
   ]
  },
  {
   "cell_type": "code",
   "execution_count": 52,
   "id": "d51b7d7d-3a66-481c-8c91-3b0d0ff6bc02",
   "metadata": {},
   "outputs": [
    {
     "data": {
      "text/plain": [
       "{'Electronics': {'Laptop': [55000, 30, 'Dell'],\n",
       "  'Mobile': [25000, 50, 'Samsung'],\n",
       "  'Tablet': [18000, 20, 'Lenovo'],\n",
       "  'Smart Watch': [7999, 40, 'Noise']},\n",
       " 'Apparel': {'T-Shirt': [499, 100, 'H&M'],\n",
       "  'Jeans': [1199, 60, \"Levi's\"],\n",
       "  'Jacket': [2499, 25, 'Puma']},\n",
       " 'Home Appliances': {'Microwave': [8500, 15, 'LG'],\n",
       "  'Vacuum Cleaner': [7000, 10, 'Philips'],\n",
       "  'Refrigerator': [30000, 8, 'Samsung']}}"
      ]
     },
     "execution_count": 52,
     "metadata": {},
     "output_type": "execute_result"
    }
   ],
   "source": [
    "ret_inv"
   ]
  },
  {
   "cell_type": "code",
   "execution_count": null,
   "id": "62af1ecb-46e1-4901-8cd4-c9f04ac06ead",
   "metadata": {},
   "outputs": [],
   "source": []
  },
  {
   "cell_type": "code",
   "execution_count": null,
   "id": "4d142e5e-28dd-40b0-ae28-88eb0e8188ee",
   "metadata": {},
   "outputs": [],
   "source": [
    "How do you remove all key-value pairs from a dictionary? (Use .clear())"
   ]
  },
  {
   "cell_type": "code",
   "execution_count": 53,
   "id": "db2ec9e8-25da-486a-a36e-938d36a78f04",
   "metadata": {},
   "outputs": [],
   "source": [
    "ret_inv.clear()"
   ]
  },
  {
   "cell_type": "code",
   "execution_count": 54,
   "id": "7b0e8d2e-33ef-4d34-b56e-e68b6008d859",
   "metadata": {},
   "outputs": [
    {
     "data": {
      "text/plain": [
       "{}"
      ]
     },
     "execution_count": 54,
     "metadata": {},
     "output_type": "execute_result"
    }
   ],
   "source": [
    "ret_inv"
   ]
  },
  {
   "cell_type": "code",
   "execution_count": null,
   "id": "ba48b11c-bd89-4951-8a41-4059af95bcec",
   "metadata": {},
   "outputs": [],
   "source": []
  },
  {
   "cell_type": "code",
   "execution_count": null,
   "id": "53696336-f8e8-4dde-95e7-35dc7d3748d7",
   "metadata": {},
   "outputs": [],
   "source": [
    "How do you add or update a value for a key? (Use .update({key: value}))"
   ]
  },
  {
   "cell_type": "code",
   "execution_count": 58,
   "id": "2c07f4f5-e427-48e5-8433-06fe80652b95",
   "metadata": {},
   "outputs": [],
   "source": [
    "ret_inv = retail_inventory.copy()"
   ]
  },
  {
   "cell_type": "code",
   "execution_count": 60,
   "id": "4cd05b4e-63c9-4883-800e-3b8f2ed5a1a1",
   "metadata": {},
   "outputs": [
    {
     "data": {
      "text/plain": [
       "dict_values([[55000, 30, 'Dell'], [25000, 50, 'Samsung'], [18000, 20, 'Lenovo'], [7999, 40, 'Noise']])"
      ]
     },
     "execution_count": 60,
     "metadata": {},
     "output_type": "execute_result"
    }
   ],
   "source": [
    "ret_inv['Electronics'].values()"
   ]
  },
  {
   "cell_type": "code",
   "execution_count": 68,
   "id": "d2cfe6f1-75c9-467e-a23e-95df4dc94273",
   "metadata": {},
   "outputs": [],
   "source": [
    "ret_inv.update({'Electronics' : 111 ,  })"
   ]
  },
  {
   "cell_type": "code",
   "execution_count": 72,
   "id": "0c93a908-220e-4ec6-81f3-64c57a959d54",
   "metadata": {},
   "outputs": [
    {
     "data": {
      "text/plain": [
       "111"
      ]
     },
     "execution_count": 72,
     "metadata": {},
     "output_type": "execute_result"
    }
   ],
   "source": [
    "ret_inv.get('Electronics')"
   ]
  },
  {
   "cell_type": "code",
   "execution_count": 82,
   "id": "523903bd-3b43-4afb-bb7b-57149ac1228d",
   "metadata": {},
   "outputs": [
    {
     "data": {
      "text/plain": [
       "dict_values([[55000, 30, 'Dell'], [25000, 50, 'Samsung'], [18000, 20, 'Lenovo'], [7999, 40, 'Noise']])"
      ]
     },
     "execution_count": 82,
     "metadata": {},
     "output_type": "execute_result"
    }
   ],
   "source": [
    "ret_inv['Electronics'].values()"
   ]
  },
  {
   "cell_type": "code",
   "execution_count": 83,
   "id": "d20a894f-3d58-49d8-b2d0-ecfe1c1a4861",
   "metadata": {},
   "outputs": [],
   "source": [
    "ret_inv.update({'Electronics' : 111 ,  })"
   ]
  },
  {
   "cell_type": "code",
   "execution_count": 84,
   "id": "ce14fea1-dbc5-41a9-96f4-f19f62eb63c2",
   "metadata": {},
   "outputs": [
    {
     "data": {
      "text/plain": [
       "{'Electronics': 111,\n",
       " 'Apparel': {'T-Shirt': [499, 100, 'H&M'],\n",
       "  'Jeans': [1199, 60, \"Levi's\"],\n",
       "  'Jacket': [2499, 25, 'Puma']},\n",
       " 'Home Appliances': {'Microwave': [8500, 15, 'LG'],\n",
       "  'Vacuum Cleaner': [7000, 10, 'Philips'],\n",
       "  'Refrigerator': [30000, 8, 'Samsung']},\n",
       " 'Mobile': 111}"
      ]
     },
     "execution_count": 84,
     "metadata": {},
     "output_type": "execute_result"
    }
   ],
   "source": [
    "ret_inv"
   ]
  },
  {
   "cell_type": "code",
   "execution_count": 87,
   "id": "c42cd44e-83a1-47d0-a933-4b7b8ecb016c",
   "metadata": {},
   "outputs": [],
   "source": [
    "ret_inv['Electronics'] = ' 111', 'ABCD', 'Marathahalli'"
   ]
  },
  {
   "cell_type": "code",
   "execution_count": 89,
   "id": "290e2902-45f7-4370-a1ec-3d68544cb382",
   "metadata": {},
   "outputs": [
    {
     "data": {
      "text/plain": [
       "{'Electronics': (' 111', 'ABCD', 'Marathahalli'),\n",
       " 'Apparel': {'T-Shirt': [499, 100, 'H&M'],\n",
       "  'Jeans': [1199, 60, \"Levi's\"],\n",
       "  'Jacket': [2499, 25, 'Puma']},\n",
       " 'Home Appliances': {'Microwave': [8500, 15, 'LG'],\n",
       "  'Vacuum Cleaner': [7000, 10, 'Philips'],\n",
       "  'Refrigerator': [30000, 8, 'Samsung']},\n",
       " 'Mobile': 111}"
      ]
     },
     "execution_count": 89,
     "metadata": {},
     "output_type": "execute_result"
    }
   ],
   "source": [
    "ret_inv"
   ]
  },
  {
   "cell_type": "code",
   "execution_count": 94,
   "id": "d5103f3e-aeee-4c5c-9df9-65e174bead43",
   "metadata": {},
   "outputs": [
    {
     "data": {
      "text/plain": [
       "dict_values([(' 111', 'ABCD', 'Marathahalli'), {'T-Shirt': [499, 100, 'H&M'], 'Jeans': [1199, 60, \"Levi's\"], 'Jacket': [2499, 25, 'Puma']}, {'Microwave': [8500, 15, 'LG'], 'Vacuum Cleaner': [7000, 10, 'Philips'], 'Refrigerator': [30000, 8, 'Samsung']}, 111])"
      ]
     },
     "execution_count": 94,
     "metadata": {},
     "output_type": "execute_result"
    }
   ],
   "source": [
    "ret_inv.values()"
   ]
  },
  {
   "cell_type": "code",
   "execution_count": 95,
   "id": "a6f57330-0077-4df0-86f5-222d2061c2ae",
   "metadata": {},
   "outputs": [
    {
     "data": {
      "text/plain": [
       "dict_items([('Electronics', (' 111', 'ABCD', 'Marathahalli')), ('Apparel', {'T-Shirt': [499, 100, 'H&M'], 'Jeans': [1199, 60, \"Levi's\"], 'Jacket': [2499, 25, 'Puma']}), ('Home Appliances', {'Microwave': [8500, 15, 'LG'], 'Vacuum Cleaner': [7000, 10, 'Philips'], 'Refrigerator': [30000, 8, 'Samsung']}), ('Mobile', 111)])"
      ]
     },
     "execution_count": 95,
     "metadata": {},
     "output_type": "execute_result"
    }
   ],
   "source": [
    "ret_inv.items()"
   ]
  },
  {
   "cell_type": "code",
   "execution_count": 96,
   "id": "a36863cc-cad3-4c03-9869-07847a2f382e",
   "metadata": {},
   "outputs": [],
   "source": [
    "ret_inv = {}"
   ]
  },
  {
   "cell_type": "code",
   "execution_count": 97,
   "id": "067b6cc0-f49d-455b-981b-c88ef127e5c1",
   "metadata": {},
   "outputs": [
    {
     "data": {
      "text/plain": [
       "{}"
      ]
     },
     "execution_count": 97,
     "metadata": {},
     "output_type": "execute_result"
    }
   ],
   "source": [
    "ret_inv"
   ]
  },
  {
   "cell_type": "code",
   "execution_count": 98,
   "id": "0a8e044f-5103-4a4a-82da-978353a34987",
   "metadata": {},
   "outputs": [],
   "source": [
    "ret_inv = dict ()"
   ]
  },
  {
   "cell_type": "code",
   "execution_count": 99,
   "id": "09b4dc9b-aebb-443d-a2a1-1424a90d703b",
   "metadata": {},
   "outputs": [
    {
     "data": {
      "text/plain": [
       "{}"
      ]
     },
     "execution_count": 99,
     "metadata": {},
     "output_type": "execute_result"
    }
   ],
   "source": [
    "ret_inv"
   ]
  },
  {
   "cell_type": "code",
   "execution_count": null,
   "id": "133c8a76-bcd5-4842-af19-bcfaa730f907",
   "metadata": {},
   "outputs": [],
   "source": []
  },
  {
   "cell_type": "code",
   "execution_count": null,
   "id": "d3d7baef-ab14-4b33-9262-12fce090658b",
   "metadata": {},
   "outputs": [],
   "source": [
    "retail_inventory = {\n",
    "    \"Electronics\": {\n",
    "        \"Laptop\": [55000, 30, \"Dell\"],\n",
    "        \"Mobile\": [25000, 50, \"Samsung\"],\n",
    "        \"Tablet\": [18000, 20, \"Lenovo\"],\n",
    "        \"Smart Watch\": [7999, 40, \"Noise\"]\n",
    "    },\n",
    "    \"Apparel\": {\n",
    "        \"T-Shirt\": [499, 100, \"H&M\"],\n",
    "        \"Jeans\": [1199, 60, \"Levi's\"],\n",
    "        \"Jacket\": [2499, 25, \"Puma\"]\n",
    "    },\n",
    "    \"Home Appliances\": {\n",
    "        \"Microwave\": [8500, 15, \"LG\"],\n",
    "        \"Vacuum Cleaner\": [7000, 10, \"Philips\"],\n",
    "        \"Refrigerator\": [30000, 8, \"Samsung\"]\n",
    "    }\n",
    "}"
   ]
  },
  {
   "cell_type": "code",
   "execution_count": null,
   "id": "43a592c2-123b-40bd-9632-d1a2d1cc7731",
   "metadata": {},
   "outputs": [],
   "source": []
  },
  {
   "cell_type": "code",
   "execution_count": 100,
   "id": "107fe7ed-8b77-46b0-8e65-47890920fd9d",
   "metadata": {},
   "outputs": [],
   "source": [
    "ret_inv1 = retail_inventory.copy()"
   ]
  },
  {
   "cell_type": "code",
   "execution_count": 108,
   "id": "a4bb64fe-87cf-43b0-a1c9-8abaad2b5989",
   "metadata": {},
   "outputs": [
    {
     "data": {
      "text/plain": [
       "dict_values([{'Laptop': [55000, 30, 'Dell'], 'Mobile': [25000, 50, 'Samsung'], 'Tablet': [18000, 20, 'Lenovo'], 'Smart Watch': [7999, 40, 'Noise']}, {'T-Shirt': [499, 100, 'H&M'], 'Jeans': [1199, 60, \"Levi's\"], 'Jacket': [2499, 25, 'Puma']}, {'Microwave': [8500, 15, 'LG'], 'Vacuum Cleaner': [7000, 10, 'Philips'], 'Refrigerator': [30000, 8, 'Samsung']}])"
      ]
     },
     "execution_count": 108,
     "metadata": {},
     "output_type": "execute_result"
    }
   ],
   "source": [
    "ret_inv1.values()"
   ]
  },
  {
   "cell_type": "code",
   "execution_count": 109,
   "id": "0f87fa43-b23c-4927-a6dc-f6c5cd42fd6d",
   "metadata": {},
   "outputs": [
    {
     "ename": "TypeError",
     "evalue": "unhashable type: 'dict'",
     "output_type": "error",
     "traceback": [
      "\u001b[31m---------------------------------------------------------------------------\u001b[39m",
      "\u001b[31mTypeError\u001b[39m                                 Traceback (most recent call last)",
      "\u001b[36mCell\u001b[39m\u001b[36m \u001b[39m\u001b[32mIn[109]\u001b[39m\u001b[32m, line 1\u001b[39m\n\u001b[32m----> \u001b[39m\u001b[32m1\u001b[39m unique_values = \u001b[38;5;28;43mset\u001b[39;49m\u001b[43m(\u001b[49m\u001b[43mret_inv1\u001b[49m\u001b[43m.\u001b[49m\u001b[43mvalues\u001b[49m\u001b[43m(\u001b[49m\u001b[43m)\u001b[49m\u001b[43m)\u001b[49m\n\u001b[32m      2\u001b[39m unique_values_list = \u001b[38;5;28mlist\u001b[39m(unique_values)\n\u001b[32m      3\u001b[39m \u001b[38;5;28mprint\u001b[39m(unique_values_list)\n",
      "\u001b[31mTypeError\u001b[39m: unhashable type: 'dict'"
     ]
    }
   ],
   "source": [
    "unique_values = set(ret_inv1.values())\n",
    "unique_values_list = list(unique_values)\n",
    "print(unique_values_list)"
   ]
  },
  {
   "cell_type": "code",
   "execution_count": 110,
   "id": "b24e9134-84ca-4518-9136-c43d48f4cb62",
   "metadata": {},
   "outputs": [
    {
     "data": {
      "text/plain": [
       "dict_items([('Electronics', {'Laptop': [55000, 30, 'Dell'], 'Mobile': [25000, 50, 'Samsung'], 'Tablet': [18000, 20, 'Lenovo'], 'Smart Watch': [7999, 40, 'Noise']}), ('Apparel', {'T-Shirt': [499, 100, 'H&M'], 'Jeans': [1199, 60, \"Levi's\"], 'Jacket': [2499, 25, 'Puma']}), ('Home Appliances', {'Microwave': [8500, 15, 'LG'], 'Vacuum Cleaner': [7000, 10, 'Philips'], 'Refrigerator': [30000, 8, 'Samsung']})])"
      ]
     },
     "execution_count": 110,
     "metadata": {},
     "output_type": "execute_result"
    }
   ],
   "source": [
    "ret_inv1.items()"
   ]
  },
  {
   "cell_type": "code",
   "execution_count": null,
   "id": "877f0bc0-1de8-49ef-962e-2ad3047155d5",
   "metadata": {},
   "outputs": [],
   "source": []
  },
  {
   "cell_type": "code",
   "execution_count": 1,
   "id": "3258e952-732d-41b2-a4f6-1613e9f9b5f6",
   "metadata": {},
   "outputs": [
    {
     "ename": "_IncompleteInputError",
     "evalue": "incomplete input (2999294417.py, line 1)",
     "output_type": "error",
     "traceback": [
      "  \u001b[36mCell\u001b[39m\u001b[36m \u001b[39m\u001b[32mIn[1]\u001b[39m\u001b[32m, line 1\u001b[39m\n\u001b[31m    \u001b[39m\u001b[31m(ret_inv.update({\"Fan\" : ['Usha', 5000, 12]})\u001b[39m\n                                                 ^\n\u001b[31m_IncompleteInputError\u001b[39m\u001b[31m:\u001b[39m incomplete input\n"
     ]
    }
   ],
   "source": [
    "(ret_inv.update({\"Fan\" : ['Usha', 5000, 12]})"
   ]
  },
  {
   "cell_type": "code",
   "execution_count": null,
   "id": "51a6564a-0172-4092-aa7a-7bfc09ad144f",
   "metadata": {},
   "outputs": [],
   "source": []
  },
  {
   "cell_type": "code",
   "execution_count": 3,
   "id": "3b11b671-4a56-4919-bac5-358ede8ccc0d",
   "metadata": {},
   "outputs": [],
   "source": [
    "ret_inv1 = {\n",
    "    \"Electronics\": {\n",
    "        \"Laptop\": [55000, 30, \"Dell\"],\n",
    "        \"Mobile\": [25000, 50, \"Samsung\"],\n",
    "        \"Tablet\": [18000, 20, \"Lenovo\"],\n",
    "        \"Smart Watch\": [7999, 40, \"Noise\"]\n",
    "    },\n",
    "    \"Apparel\": {\n",
    "        \"T-Shirt\": [499, 100, \"H&M\"],\n",
    "        \"Jeans\": [1199, 60, \"Levi's\"],\n",
    "        \"Jacket\": [2499, 25, \"Puma\"]\n",
    "    },\n",
    "    \"Home Appliances\": {\n",
    "        \"Microwave\": [8500, 15, \"LG\"],\n",
    "        \"Vacuum Cleaner\": [7000, 10, \"Philips\"],\n",
    "        \"Refrigerator\": [30000, 8, \"Samsung\"]\n",
    "    }\n",
    "}"
   ]
  },
  {
   "cell_type": "code",
   "execution_count": 5,
   "id": "0111cec6-60b8-4846-a4c2-9065aae5f872",
   "metadata": {},
   "outputs": [
    {
     "data": {
      "text/plain": [
       "dict_items([('Electronics', {'Laptop': [55000, 30, 'Dell'], 'Mobile': [25000, 50, 'Samsung'], 'Tablet': [18000, 20, 'Lenovo'], 'Smart Watch': [7999, 40, 'Noise']}), ('Apparel', {'T-Shirt': [499, 100, 'H&M'], 'Jeans': [1199, 60, \"Levi's\"], 'Jacket': [2499, 25, 'Puma']}), ('Home Appliances', {'Microwave': [8500, 15, 'LG'], 'Vacuum Cleaner': [7000, 10, 'Philips'], 'Refrigerator': [30000, 8, 'Samsung']})])"
      ]
     },
     "execution_count": 5,
     "metadata": {},
     "output_type": "execute_result"
    }
   ],
   "source": [
    "ret_inv1.items()"
   ]
  },
  {
   "cell_type": "code",
   "execution_count": 6,
   "id": "da55eef0-2d55-4301-a059-9da79b4953ab",
   "metadata": {},
   "outputs": [],
   "source": [
    "ret_inv1.update({ \" Fan\" : ('Usha', 5000, 12)})"
   ]
  },
  {
   "cell_type": "code",
   "execution_count": 8,
   "id": "b2d4c8c5-1c65-4948-80a6-c6275d1ab5d9",
   "metadata": {},
   "outputs": [
    {
     "data": {
      "text/plain": [
       "dict_keys(['Electronics', 'Apparel', 'Home Appliances', ' Fan'])"
      ]
     },
     "execution_count": 8,
     "metadata": {},
     "output_type": "execute_result"
    }
   ],
   "source": [
    "ret_inv1.keys()"
   ]
  },
  {
   "cell_type": "code",
   "execution_count": null,
   "id": "12caf700-c8c8-4a61-a1fb-3b0172fd417f",
   "metadata": {},
   "outputs": [],
   "source": []
  },
  {
   "cell_type": "code",
   "execution_count": null,
   "id": "0ffc77b1-1876-476a-9b92-01df1c3eeee6",
   "metadata": {},
   "outputs": [],
   "source": [
    "11. Use .setdefault() to assign a default value to a missing key."
   ]
  },
  {
   "cell_type": "code",
   "execution_count": 9,
   "id": "72337d41-cb2a-4c6a-a67c-5c79fff3762a",
   "metadata": {},
   "outputs": [
    {
     "data": {
      "text/plain": [
       "30"
      ]
     },
     "execution_count": 9,
     "metadata": {},
     "output_type": "execute_result"
    }
   ],
   "source": [
    "ret_inv1.setdefault('Fan' , 30)"
   ]
  },
  {
   "cell_type": "code",
   "execution_count": 10,
   "id": "a0bc6753-ad47-45e9-9401-3a7a645f7d7d",
   "metadata": {},
   "outputs": [
    {
     "data": {
      "text/plain": [
       "dict_values([{'Laptop': [55000, 30, 'Dell'], 'Mobile': [25000, 50, 'Samsung'], 'Tablet': [18000, 20, 'Lenovo'], 'Smart Watch': [7999, 40, 'Noise']}, {'T-Shirt': [499, 100, 'H&M'], 'Jeans': [1199, 60, \"Levi's\"], 'Jacket': [2499, 25, 'Puma']}, {'Microwave': [8500, 15, 'LG'], 'Vacuum Cleaner': [7000, 10, 'Philips'], 'Refrigerator': [30000, 8, 'Samsung']}, ('Usha', 5000, 12), 30])"
      ]
     },
     "execution_count": 10,
     "metadata": {},
     "output_type": "execute_result"
    }
   ],
   "source": [
    "ret_inv1.values()"
   ]
  },
  {
   "cell_type": "code",
   "execution_count": null,
   "id": "311e4926-e12f-43cf-8d0a-869b481092eb",
   "metadata": {},
   "outputs": [],
   "source": []
  },
  {
   "cell_type": "code",
   "execution_count": null,
   "id": "955cc38d-9c40-45b5-9c9c-fc6108a72b58",
   "metadata": {},
   "outputs": [],
   "source": [
    "12. se .update() to merge two dictionaries."
   ]
  },
  {
   "cell_type": "code",
   "execution_count": 11,
   "id": "41c9fa7f-4b81-4f0c-9a88-9ab20e86cc44",
   "metadata": {},
   "outputs": [
    {
     "name": "stdout",
     "output_type": "stream",
     "text": [
      "{1: 'Aaa', 2: 'Bbb', 3: 'Rrr', 4: 'Sss', 5: 'Ttt'}\n"
     ]
    }
   ],
   "source": [
    "Abhi1 = {1:'Aaa', 2:'Bbb', 3:'Ccc'}\n",
    "Abhi2 = {3:'Rrr', 4:'Sss', 5:'Ttt'}\n",
    "Abhi1.update(Abhi2)\n",
    "print(Abhi1)"
   ]
  },
  {
   "cell_type": "code",
   "execution_count": null,
   "id": "07601b1d-5746-4ca3-9343-52b3d1a5d56d",
   "metadata": {},
   "outputs": [],
   "source": [
    "##remove the duplicate values and merge the all in one values"
   ]
  },
  {
   "cell_type": "code",
   "execution_count": null,
   "id": "14cf0733-1616-4986-87b0-f446820a10d2",
   "metadata": {},
   "outputs": [],
   "source": []
  },
  {
   "cell_type": "code",
   "execution_count": null,
   "id": "0819cb7a-7602-40c1-b08a-5212af0d4ec3",
   "metadata": {},
   "outputs": [],
   "source": [
    "13. Use .get() with a default return value if key is not found."
   ]
  },
  {
   "cell_type": "code",
   "execution_count": 12,
   "id": "f8566b9e-3d06-4b6f-b363-1b1134140571",
   "metadata": {},
   "outputs": [
    {
     "name": "stdout",
     "output_type": "stream",
     "text": [
      "None\n"
     ]
    }
   ],
   "source": [
    "Abhi1 = {1:'Aaa', 2:'Bbb', 3:'Ccc'}\n",
    "print(Abhi1.get(4))"
   ]
  },
  {
   "cell_type": "code",
   "execution_count": null,
   "id": "7e4defaa-ca86-401a-abb6-ecf2492fe8ec",
   "metadata": {},
   "outputs": [],
   "source": [
    "##WIthout adding the value of Abhi1 table using get() method"
   ]
  },
  {
   "cell_type": "code",
   "execution_count": null,
   "id": "a1201d38-9591-4f3c-ab10-b5d514860450",
   "metadata": {},
   "outputs": [],
   "source": []
  },
  {
   "cell_type": "code",
   "execution_count": null,
   "id": "93698b4f-a705-4887-9a89-8504c2c95a2f",
   "metadata": {},
   "outputs": [],
   "source": [
    "14. What’s the difference between .pop() and .popitem()? Try both."
   ]
  },
  {
   "cell_type": "code",
   "execution_count": 13,
   "id": "9285af8c-8f68-4133-a0b8-73ad6df9b080",
   "metadata": {},
   "outputs": [],
   "source": [
    "Abhi1 = {1: 'Aaa', 2: 'Bbb', 3: 'Rrr', 4: 'Sss', 5: 'Ttt'}"
   ]
  },
  {
   "cell_type": "code",
   "execution_count": 14,
   "id": "fb1262be-7452-4782-9dd0-e39fb887b968",
   "metadata": {},
   "outputs": [
    {
     "data": {
      "text/plain": [
       "'Bbb'"
      ]
     },
     "execution_count": 14,
     "metadata": {},
     "output_type": "execute_result"
    }
   ],
   "source": [
    "Abhi1.pop(2)"
   ]
  },
  {
   "cell_type": "code",
   "execution_count": null,
   "id": "08565948-de99-43b1-aa9e-05529203982c",
   "metadata": {},
   "outputs": [],
   "source": [
    "##pop() Means delete the particular value of Abhi1"
   ]
  },
  {
   "cell_type": "code",
   "execution_count": 15,
   "id": "c0ab43e9-7db3-4a34-9e9b-c00f051cb1c5",
   "metadata": {},
   "outputs": [
    {
     "data": {
      "text/plain": [
       "(5, 'Ttt')"
      ]
     },
     "execution_count": 15,
     "metadata": {},
     "output_type": "execute_result"
    }
   ],
   "source": [
    "Abhi1.popitem()"
   ]
  },
  {
   "cell_type": "code",
   "execution_count": 16,
   "id": "aba1174c-5bab-4faf-9e4b-ba1b64f491a2",
   "metadata": {},
   "outputs": [
    {
     "data": {
      "text/plain": [
       "dict_values(['Aaa', 'Rrr', 'Sss'])"
      ]
     },
     "execution_count": 16,
     "metadata": {},
     "output_type": "execute_result"
    }
   ],
   "source": [
    "Abhi1.values()"
   ]
  },
  {
   "cell_type": "code",
   "execution_count": null,
   "id": "09fa2662-12f6-4d9e-b8c3-ab3de5e8e1ff",
   "metadata": {},
   "outputs": [],
   "source": [
    "## popitem() Means delete the last value of Abhi1 Table"
   ]
  },
  {
   "cell_type": "code",
   "execution_count": null,
   "id": "4994d34d-974f-4127-b3f5-9682144a3586",
   "metadata": {},
   "outputs": [],
   "source": []
  },
  {
   "cell_type": "code",
   "execution_count": null,
   "id": "8c305160-d5b7-472e-90d9-3c23ae76ced7",
   "metadata": {},
   "outputs": [],
   "source": [
    "15. Use del to remove a key from a dictionary."
   ]
  },
  {
   "cell_type": "code",
   "execution_count": 17,
   "id": "df263255-08bc-4ff4-8f0f-825913cb2342",
   "metadata": {},
   "outputs": [],
   "source": [
    "Abhi2 = {'a':'Rrr', 'b':'Sss', 'c':'Ttt'}"
   ]
  },
  {
   "cell_type": "code",
   "execution_count": 19,
   "id": "b15075c7-1f66-4465-8374-a461b410c084",
   "metadata": {},
   "outputs": [],
   "source": [
    "del Abhi2['b']"
   ]
  },
  {
   "cell_type": "code",
   "execution_count": 20,
   "id": "75aa59a4-43ac-4e38-9c55-e8c51d84eb4e",
   "metadata": {},
   "outputs": [
    {
     "data": {
      "text/plain": [
       "dict_keys(['a', 'c'])"
      ]
     },
     "execution_count": 20,
     "metadata": {},
     "output_type": "execute_result"
    }
   ],
   "source": [
    "Abhi2.keys()"
   ]
  },
  {
   "cell_type": "code",
   "execution_count": null,
   "id": "5df084ee-68f5-4f26-9782-4a198d4e511d",
   "metadata": {},
   "outputs": [],
   "source": [
    "##Delete the Keys for Abhi2 Tabl2"
   ]
  },
  {
   "cell_type": "code",
   "execution_count": null,
   "id": "ed59ec31-28c8-4d89-af8d-65dd82e55efb",
   "metadata": {},
   "outputs": [],
   "source": []
  },
  {
   "cell_type": "code",
   "execution_count": null,
   "id": "1fd86351-beb4-470f-aedd-ea520b51a7e1",
   "metadata": {},
   "outputs": [],
   "source": [
    "16. Get the number of keys in a dictionary. (Use len())"
   ]
  },
  {
   "cell_type": "code",
   "execution_count": 21,
   "id": "da9b64ed-c29e-4cd8-9fad-bb796fe166bd",
   "metadata": {},
   "outputs": [],
   "source": [
    "Abhi1 = {1: 'Aaa', 2: 'Bbb', 3: 'Rrr', 4: 'Sss', 5: 'Ttt'}"
   ]
  },
  {
   "cell_type": "code",
   "execution_count": 22,
   "id": "d1e8d983-f298-4d52-9417-b852877345df",
   "metadata": {},
   "outputs": [
    {
     "data": {
      "text/plain": [
       "5"
      ]
     },
     "execution_count": 22,
     "metadata": {},
     "output_type": "execute_result"
    }
   ],
   "source": [
    "len(Abhi1)"
   ]
  },
  {
   "cell_type": "code",
   "execution_count": null,
   "id": "74a533f9-dba9-4c05-82d9-2319aabdb13d",
   "metadata": {},
   "outputs": [],
   "source": [
    "##Dsiplay count the length of keys "
   ]
  },
  {
   "cell_type": "code",
   "execution_count": null,
   "id": "62f7eec4-b375-42ab-9152-aa4c70633bb1",
   "metadata": {},
   "outputs": [],
   "source": []
  },
  {
   "cell_type": "code",
   "execution_count": null,
   "id": "4de3f1c7-7a87-4ffc-9af6-4e9a7a0c3673",
   "metadata": {},
   "outputs": [],
   "source": []
  },
  {
   "cell_type": "code",
   "execution_count": null,
   "id": "ee537805-cf01-4568-87ed-bb0c22b9b7ee",
   "metadata": {},
   "outputs": [],
   "source": []
  },
  {
   "cell_type": "code",
   "execution_count": null,
   "id": "1a4ab60f-962d-4952-a120-2d53f8783fef",
   "metadata": {},
   "outputs": [],
   "source": []
  },
  {
   "cell_type": "code",
   "execution_count": null,
   "id": "6e031bee-457c-438a-ae9d-7be54d9234f2",
   "metadata": {},
   "outputs": [],
   "source": []
  },
  {
   "cell_type": "code",
   "execution_count": null,
   "id": "c2f33e22-834c-407e-bf68-9ffc4a6d41be",
   "metadata": {},
   "outputs": [],
   "source": []
  },
  {
   "cell_type": "code",
   "execution_count": null,
   "id": "81fd6f56-da2f-420f-9d92-a282b4d50189",
   "metadata": {},
   "outputs": [],
   "source": []
  },
  {
   "cell_type": "code",
   "execution_count": null,
   "id": "e6438f8f-f660-4ac1-9362-0eafa46832d3",
   "metadata": {},
   "outputs": [],
   "source": []
  },
  {
   "cell_type": "code",
   "execution_count": null,
   "id": "457f231f-dd6b-404c-b028-f3f451f2c573",
   "metadata": {},
   "outputs": [],
   "source": []
  },
  {
   "cell_type": "code",
   "execution_count": null,
   "id": "499617b1-f008-45b5-9880-8cd9d8fa5467",
   "metadata": {},
   "outputs": [],
   "source": []
  },
  {
   "cell_type": "code",
   "execution_count": null,
   "id": "bbd8e315-20e2-4384-9d0c-892a57757eea",
   "metadata": {},
   "outputs": [],
   "source": []
  },
  {
   "cell_type": "code",
   "execution_count": null,
   "id": "40c332a2-f943-4473-9f73-dddf8305afbf",
   "metadata": {},
   "outputs": [],
   "source": []
  },
  {
   "cell_type": "code",
   "execution_count": null,
   "id": "01708eb9-945e-434f-b791-96c239dbaa72",
   "metadata": {},
   "outputs": [],
   "source": []
  },
  {
   "cell_type": "code",
   "execution_count": null,
   "id": "64b75b41-9905-4efd-82c2-2b627bca78e3",
   "metadata": {},
   "outputs": [],
   "source": []
  },
  {
   "cell_type": "code",
   "execution_count": null,
   "id": "29bd2023-c53a-4f3a-91e4-771eca4cb9d3",
   "metadata": {},
   "outputs": [],
   "source": []
  },
  {
   "cell_type": "code",
   "execution_count": null,
   "id": "0074b5de-1550-479f-a5ba-6f5ddcbb3667",
   "metadata": {},
   "outputs": [],
   "source": []
  },
  {
   "cell_type": "code",
   "execution_count": null,
   "id": "81cff27a-2e23-41f7-ad87-2c83eebd8e3c",
   "metadata": {},
   "outputs": [],
   "source": []
  },
  {
   "cell_type": "code",
   "execution_count": null,
   "id": "2d93fed9-a5e1-4a68-8017-aecea8b2450f",
   "metadata": {},
   "outputs": [],
   "source": []
  },
  {
   "cell_type": "code",
   "execution_count": null,
   "id": "ab053c35-6b39-403e-b60d-542a7868ef80",
   "metadata": {},
   "outputs": [],
   "source": []
  },
  {
   "cell_type": "code",
   "execution_count": null,
   "id": "5a268beb-e22d-4d9d-9d8c-545bdd57975f",
   "metadata": {},
   "outputs": [],
   "source": []
  },
  {
   "cell_type": "code",
   "execution_count": null,
   "id": "07c70c2f-ef8a-47e8-a4ab-5028055efc10",
   "metadata": {},
   "outputs": [],
   "source": []
  },
  {
   "cell_type": "code",
   "execution_count": null,
   "id": "4abc2b7b-f795-458d-8244-48757e611c04",
   "metadata": {},
   "outputs": [],
   "source": []
  }
 ],
 "metadata": {
  "kernelspec": {
   "display_name": "Python 3 (ipykernel)",
   "language": "python",
   "name": "python3"
  },
  "language_info": {
   "codemirror_mode": {
    "name": "ipython",
    "version": 3
   },
   "file_extension": ".py",
   "mimetype": "text/x-python",
   "name": "python",
   "nbconvert_exporter": "python",
   "pygments_lexer": "ipython3",
   "version": "3.13.2"
  }
 },
 "nbformat": 4,
 "nbformat_minor": 5
}
